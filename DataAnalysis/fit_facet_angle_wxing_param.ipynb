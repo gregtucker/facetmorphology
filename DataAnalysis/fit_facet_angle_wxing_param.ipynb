{
 "cells": [
  {
   "cell_type": "markdown",
   "metadata": {},
   "source": [
    "# Relationship between facet angle and dissolution rate parameter\n",
    "\n",
    "This notebook does calculation and plotting to test whether the GrainFacetModel, in its \"dissolution\" configuration---that is, transport-limited with no production of sediment---obeys the formulation in Tucker et al. (2011). Modified to account for the slope-normal instead of \"arc-wise\" erosion vector, the formulation says that the sine difference in angle between the fault plane ($\\alpha$) and the facet ($\\theta$) equals the ratio of slope-normal erosion rate rate, $E_n$, to slip rate, $V$:\n",
    "\n",
    "$\\sin(\\alpha - \\theta ) = E_n / V$\n",
    "\n",
    "For the case of pure dissolution (no regolith production), $E_n$ corresponds to the slope-normal erosion rate due to dissolution. One problem, however, is that we do not know the erosion rate *a priori*. Instead, we set the dissolution transition probability, $s$ (dimensions of 1/time). One might expect the resultant erosion rate to simply be cell size times transition rate, $\\delta s$. This doesn't quite work, for two reasons. First, there is a geometric correction related to the hex lattice geometry (a \"cut\" through the lattice would tend to produce 2 faces per cell, and cells have the cross-sectional area of a hexagon). This first effect is straightforward to describe: because of the additive property of Poisson processes, the expected rate, if cells always expose exactly two faces, is simply $2\\delta s$.\n",
    "\n",
    "Second, there might be effects related to surface roughness that make the actual slope-normal erosion rate a bit higher than the expected value of $2\\delta s$. Denoting this unknown factor by $a$, we have\n",
    "\n",
    "$\\sin ( \\alpha - \\theta ) = 2 a \\delta s / V$.\n",
    "\n",
    "We know $\\delta$ and $V$ (which are constants in the model experiments), and $s$ (which is the independent variable), so the hypothesis to test is that $a=1$, indicating that the no surface-roughness correction is needed, or alternatively that $a > 1$, indicating some need for correction. So the exercise is to do a least-squares linear regression on the above (with a zero intercept) and see whether (a) there is a reasonable fit between the left side and $s$, and (b) whether the slope of the line is close to the predicted value of $2\\delta / V$.\n",
    "\n",
    "Of note here is that a separate analysis of dissolution of a column predicts that surface roughness does in fact increase the lowering rate. From numerical experiments, as the width of the column grows (in terms of number of cells), the roughness-enhancement factor $a$ asymptotes to a value of about $1.8$, so that the effective rate is approximately $E_n = 3.6 \\delta s$. We can test whether that is also the case for the simulated facet profiles.\n",
    "\n",
    "We start by reading the results from a series of runs with $s$ ranging from $4\\times 10^{-5}$ yr$^{-1}$ to $48\\times 10^{-5}$ yr$^{-1}$, with $\\delta = 0.5$ m, $V = 0.001$ m/yr, and a domain width of 80 cells ($\\approx 69$ m). Later, we'll add several runs with a longer domain to test the degree to which slope length matters."
   ]
  },
  {
   "cell_type": "code",
   "execution_count": 1,
   "metadata": {},
   "outputs": [],
   "source": [
    "import csv\n",
    "import numpy as np\n",
    "import matplotlib.pyplot as plt\n",
    "%matplotlib inline"
   ]
  },
  {
   "cell_type": "code",
   "execution_count": 2,
   "metadata": {},
   "outputs": [],
   "source": [
    "filename = 'data_analysis_dissolution20190604.csv'"
   ]
  },
  {
   "cell_type": "code",
   "execution_count": 3,
   "metadata": {},
   "outputs": [
    {
     "name": "stdout",
     "output_type": "stream",
     "text": [
      "Run name Dissolution rate parameter (1/y) Slope angle (deg) Slope gradient (m/m) Intercept Average vertical erosion rate (m/y) Fractional soil cover\n",
      "dissolve_dr36 36.0e-5 14.9569455272 0.267143960973 2.96105160662 0.000659129383784 0.0\n",
      "dissolve_dr40 40.0e-5 11.9060025534 0.210842471723 2.62025316456 0.000689201405244 0.0\n",
      "dissolve_dr48 48.0e-5 5.32663961368 0.093236165672 3.02336903603 0.0007411955448 0.0\n",
      "dissolve_dr4 4.0e-5 56.3002742582 1.49945229357 1.34858812074 9.83170797729e-05 0.0\n",
      "dissolve_dr24 24.0e-5 35.2759196107 0.707408676957 2.43135345667 0.000453180781893 0.0\n",
      "dissolve_dr12 12.0e-5 47.1173946606 1.07678354976 2.58519961052 0.000293422087718 0.0\n",
      "dissolve_dr32 32.0e-5 23.4877741013 0.434558673889 2.25024342746 0.000584352261214 0.0\n",
      "dissolve_dr28 28.0e-5 30.1471422173 0.580779516163 1.80525803311 0.000531503000746 0.0\n",
      "dissolve_dr44 44.0e-5 6.01398172095 0.105350964407 3.57838364167 0.000726271369592 0.0\n",
      "dissolve_dr8 8.0e-5 51.2908623697 1.24779616114 2.21811100292 0.00020483469493 0.0\n",
      "dissolve_dr20 20.0e-5 38.7117594638 0.801488100081 1.1723466407 0.000431691113396 0.0\n",
      "dissolve_dr16 16.0e-5 42.8380938761 0.927245894841 2.94255111977 0.000361581616457 0.0\n"
     ]
    }
   ],
   "source": [
    "# Count number of lines in file\n",
    "num_lines = len(open(filename).readlines(  ))\n",
    "\n",
    "# Create data arrays\n",
    "diss_param = np.zeros(num_lines - 2)  # skip 2 header lines\n",
    "facet_angle = np.zeros(num_lines - 2)\n",
    "ero_rate = np.zeros(num_lines - 2)  # slope-normal erosion rate, m/yr (NOT cells/yr)\n",
    "\n",
    "# Read data\n",
    "with open(filename, 'r') as csvfile:\n",
    "    myreader = csv.reader(csvfile)\n",
    "    i = 0\n",
    "    for row in myreader:\n",
    "        print(' '.join(row))\n",
    "        if i >= 2:\n",
    "            diss_param[i-2] = row[1]\n",
    "            facet_angle[i-2] = row[2]\n",
    "            ero_rate[i-2] = row[5]\n",
    "        i += 1"
   ]
  },
  {
   "cell_type": "markdown",
   "metadata": {},
   "source": [
    "Compare expected vertical dissolution rate, $2\\delta s$, with vertical erosion rate calculated from topography and slip rate:"
   ]
  },
  {
   "cell_type": "code",
   "execution_count": 4,
   "metadata": {},
   "outputs": [
    {
     "name": "stdout",
     "output_type": "stream",
     "text": [
      "(0.0004, 0.0006743748751665423, 0.0004087942363355671, 0.000689201405244, 1.6859371879163556)\n",
      "(0.00048, 0.0007379947977936572, 0.0004820818013455349, 0.0007411955448, 1.537489162070119)\n",
      "(4e-05, 5.455029230406484e-05, 7.209279776165295e-05, 9.83170797729e-05, 1.363757307601621)\n",
      "(0.00024, 0.000369967899472679, 0.0002939806069914232, 0.000453180781893, 1.5415329144694956)\n",
      "(0.00012, 0.00019967327350810693, 0.0001763413295506993, 0.000293422087718, 1.6639439459008911)\n",
      "(0.00032, 0.0005359358361018608, 0.0003489087890605992, 0.000584352261214, 1.6747994878183148)\n",
      "(0.00028, 0.0004596111029880421, 0.00032379731307916623, 0.000531503000746, 1.6414682249572934)\n",
      "(0.00044, 0.0007222742319664678, 0.00044243500387719194, 0.000726271369592, 1.641532345378336)\n",
      "(8e-05, 0.0001280968817653217, 0.00012792485943897676, 0.00020483469493, 1.601211022066521)\n",
      "(0.0002, 0.00033684946733197587, 0.00025631099660938735, 0.000431691113396, 1.6842473366598791)\n",
      "(0.00016, 0.0002651398324753944, 0.00021819829217282512, 0.000361581616457, 1.657123952971215)\n",
      "Mean En ratio: 1.6084584443463674\n",
      "Mean Ev ratio: 1.6084584443463674\n"
     ]
    },
    {
     "data": {
      "image/png": "[encoded data removed]",
      "text/plain": [
       "<Figure size 432x288 with 1 Axes>"
      ]
     },
     "metadata": {
      "needs_background": "light"
     },
     "output_type": "display_data"
    }
   ],
   "source": [
    "delta = 0.5  # cell width, m\n",
    "expected_slope_normal_rate = 2.0 * delta * diss_param  # expectation without roughness correction\n",
    "expected_vertical_rate = expected_slope_normal_rate / np.cos(np.radians(facet_angle))  # translate to vertical\n",
    "calculated_slope_normal_rate = ero_rate * np.cos(np.radians(facet_angle))  # calculated from topography\n",
    "calculated_vertical_rate = ero_rate  # calculated from topography\n",
    "for i in range(len(ero_rate)):\n",
    "    print((expected_slope_normal_rate[i], calculated_slope_normal_rate[i], expected_vertical_rate[i],\n",
    "           calculated_vertical_rate[i], calculated_slope_normal_rate[i] / expected_slope_normal_rate[i]))\n",
    "plt.plot(expected_slope_normal_rate, calculated_slope_normal_rate, 'k.')\n",
    "plt.grid(True)\n",
    "plt.xlabel('Expected slope-normal erosion rate without roughness correction (m/y)')\n",
    "plt.ylabel('Calculated slope-normal erosion rate (m/y)')\n",
    "print('Mean En ratio: ' + str(np.mean(calculated_slope_normal_rate / expected_slope_normal_rate)))\n",
    "print('Mean Ev ratio: ' + str(np.mean(calculated_vertical_rate / expected_vertical_rate)))"
   ]
  },
  {
   "cell_type": "markdown",
   "metadata": {},
   "source": [
    "Clearly, the actual erosion rate is higher than the rate that would be expected in the absence of a surface-roughness effect. Next, we'll read in results from a similar series of runs that use a longer domain. We can then compare the predicted and modeled angle difference for both data sets. This comparison will indicate two things: first, do the two data sets plot together, indicating (as expected) that slope length does not influence gradient for a dissolution-limited facet? second, by what factor is the actual angle difference greater than what would be expected in the absence of surface roughness?"
   ]
  },
  {
   "cell_type": "code",
   "execution_count": 5,
   "metadata": {},
   "outputs": [],
   "source": [
    "filename = 'dissolution_long_domain20190311.csv'"
   ]
  },
  {
   "cell_type": "code",
   "execution_count": 6,
   "metadata": {},
   "outputs": [
    {
     "name": "stdout",
     "output_type": "stream",
     "text": [
      "Landlab version 1.7.0+15.g1764eb3f \n",
      "Dissolution rate parameter (1/yr) Gradient (m/m) Slope angle (deg)\n",
      "0.0002 0.82404884912 39.4901895413\n",
      "0.00024 0.644706866237 32.810153595\n",
      "0.00028 0.534296429598 28.115431014\n",
      "0.00032 0.441043524674 23.7995670076\n",
      "0.00036 0.288452281903 16.0903267272\n",
      "0.0004 0.201972724765 11.4185726704\n",
      "0.00044 0.10976357524 6.26391395369\n",
      "0.00048 0.0224836295957 1.28800007937\n"
     ]
    }
   ],
   "source": [
    "# Count number of lines in file\n",
    "num_lines = len(open(filename).readlines(  ))\n",
    "\n",
    "# Create data arrays\n",
    "diss_param_long = np.zeros(num_lines - 2)  # skip 2 header lines\n",
    "facet_angle_long = np.zeros(num_lines - 2)\n",
    "\n",
    "# Read data\n",
    "with open(filename, 'r') as csvfile:\n",
    "    myreader = csv.reader(csvfile)\n",
    "    i = 0\n",
    "    for row in myreader:\n",
    "        print(' '.join(row))\n",
    "        if i >= 2:\n",
    "            diss_param_long[i-2] = row[0]\n",
    "            facet_angle_long[i-2] = row[2]\n",
    "        i += 1"
   ]
  },
  {
   "cell_type": "code",
   "execution_count": 7,
   "metadata": {},
   "outputs": [
    {
     "data": {
      "image/png": "[encoded data removed]",
      "text/plain": [
       "<Figure size 432x288 with 1 Axes>"
      ]
     },
     "metadata": {
      "needs_background": "light"
     },
     "output_type": "display_data"
    }
   ],
   "source": [
    "# Quick data plot to check linearity\n",
    "V = 0.001\n",
    "expected_sin_angle_diff = 2 * delta * diss_param / V\n",
    "expected_sin_angle_diff_long = 2 * delta * diss_param_long / V\n",
    "plt.plot(expected_sin_angle_diff, np.sin(np.radians(60.0 - facet_angle)), 'o')\n",
    "plt.plot(expected_sin_angle_diff_long, np.sin(np.radians(60.0 - facet_angle_long)), '+')\n",
    "plt.xlabel(r'$2 \\delta s / V$')\n",
    "plt.ylabel(r'$\\sin ( \\alpha - \\theta )$')\n",
    "plt.grid(True)"
   ]
  },
  {
   "cell_type": "markdown",
   "metadata": {},
   "source": [
    "The linearity of the above plot means that part of the theory works: there is indeed a linear relation between the sine of the angle difference and the ratio of erosion to slip rate, and the relationship is insensitive to slope length. However, the fact that the observed slope difference is consistently greater than its predicted value implies that there is indeed a roughness effect that needs a correction. \n",
    "\n",
    "Next, we'll fit the coefficient $a$ in:\n",
    "\n",
    "$\\sin ( \\alpha - \\theta ) = \\frac{2 a\\delta}{V}s$.\n"
   ]
  },
  {
   "cell_type": "code",
   "execution_count": 8,
   "metadata": {},
   "outputs": [
    {
     "name": "stdout",
     "output_type": "stream",
     "text": [
      "[1.7977213]\n"
     ]
    }
   ],
   "source": [
    "# To use linalg.lstsq, we need to transpose $w$\n",
    "x = expected_sin_angle_diff[:,np.newaxis]\n",
    "y = np.sin(np.radians(60.0 - facet_angle))  # angle difference\n",
    "\n",
    "# Fit with zero intercept (the \"rcond\" parameter supresses a\n",
    "# warning)\n",
    "a, _, _, _ = np.linalg.lstsq(x, y, rcond=None)\n",
    "print(a)"
   ]
  },
  {
   "cell_type": "markdown",
   "metadata": {},
   "source": [
    "This value of $a\\approx 1.8$ matches a separate set of experiments on dissolution of a flat surface, where the actual rate is about 3.6 times $\\delta s$, or 1.8 times $2 \\delta s$.\n",
    "\n",
    "Verify that the fitting parameter makes sense by plotting. The line should go through the data."
   ]
  },
  {
   "cell_type": "code",
   "execution_count": 9,
   "metadata": {},
   "outputs": [
    {
     "data": {
      "image/png": "[encoded data removed]",
      "text/plain": [
       "<Figure size 432x288 with 1 Axes>"
      ]
     },
     "metadata": {
      "needs_background": "light"
     },
     "output_type": "display_data"
    }
   ],
   "source": [
    "plt.plot(x, y, 'o')\n",
    "plt.plot([0, 0.5], [0, a * 0.5])\n",
    "plt.grid(True)\n",
    "plt.xlabel(r'$2 \\delta s / V$')\n",
    "plt.ylabel(r'$\\sin ( \\alpha - \\theta )$')\n",
    "plt.grid(True)"
   ]
  },
  {
   "cell_type": "markdown",
   "metadata": {},
   "source": [
    "The next step is to create a version of this plot that includes the roughness-correction factor $a\\approx 1.8$. We define a dimensionless dissolution-erosion rate as:\n",
    "\n",
    "$S' = 2 a \\delta / V$."
   ]
  },
  {
   "cell_type": "code",
   "execution_count": 10,
   "metadata": {},
   "outputs": [
    {
     "data": {
      "image/png": "[encoded data removed]",
      "text/plain": [
       "<Figure size 432x288 with 1 Axes>"
      ]
     },
     "metadata": {
      "needs_background": "light"
     },
     "output_type": "display_data"
    }
   ],
   "source": [
    "# expected dimensionless dissolution-erosion rate\n",
    "Sprime = 1.8 * 2.0 * delta * diss_param / V\n",
    "Sprime_long = 1.8 * 2.0 * delta * diss_param_long / V\n",
    "\n",
    "sin_ang_diff = np.sin(np.radians(60.0 - facet_angle))\n",
    "sin_ang_diff_long = np.sin(np.radians(60.0 - facet_angle_long))\n",
    "\n",
    "plt.plot(Sprime, sin_ang_diff, 'ko', fillstyle='none')\n",
    "plt.plot(Sprime_long, sin_ang_diff_long, 'k+')\n",
    "plt.plot([0.0, 0.9], [0.0, 0.9], 'k')  # one-to-one line\n",
    "plt.xlabel(r'Dimensionless dissolution rate ($2 a \\delta s / V$)')\n",
    "plt.ylabel(r'$\\sin (\\alpha - \\theta)$')\n",
    "plt.legend(['Model (narrow facet)', 'Model (wide facet)', 'Analytical (1:1)'])\n",
    "plt.savefig('../modeling-shape-evolution/Figures/angle_vs_dissolution.pdf')"
   ]
  },
  {
   "cell_type": "markdown",
   "metadata": {},
   "source": [
    "## Visualizing predicted dip angle\n",
    "\n",
    "The following block of code produces plots of the predicted facet angle for different values of $s$.\n",
    "\n",
    "Recall that the predicted relationship is:\n",
    "\n",
    "$\\sin (\\alpha - \\theta ) = 2 a \\delta s / V = S'$.\n",
    "\n",
    "Therefore,\n",
    "\n",
    "$\\alpha - \\theta = \\sin^{-1} S'$, or\n",
    "\n",
    "$\\theta = \\alpha - \\sin^{-1} S'$."
   ]
  },
  {
   "cell_type": "code",
   "execution_count": 18,
   "metadata": {},
   "outputs": [
    {
     "data": {
      "text/plain": [
       "<Figure size 432x288 with 0 Axes>"
      ]
     },
     "metadata": {},
     "output_type": "display_data"
    }
   ],
   "source": [
    "import matplotlib.pyplot as plt\n",
    "import numpy as np\n",
    "from landlab.io.native_landlab import load_grid\n",
    "from grainhill import plot_hill\n",
    "%matplotlib inline\n",
    "\n",
    "run_dir = '../../ModelRuns/Dissolution/'\n",
    "runs = ['dissolve_dr8', 'dissolve_dr20', 'dissolve_dr32', 'dissolve_dr44', 'dissolve_dr_long20', 'dissolve_dr_long32']\n",
    "xmax = [70.0, 70.0, 70.0, 70.0, 140., 140.0]\n",
    "s = np.array([8.0e-5, 20.0e-5, 32.0e-5, 44.0e-5, 20.0e-5, 32.0e-5])\n",
    "sprime = 3.6 * s * delta / V\n",
    "theta_pred = np.radians(60.0) - np.arcsin(sprime)\n",
    "\n",
    "for i in range(len(runs)):\n",
    "    run_name = runs[i]\n",
    "    g = load_grid(run_dir + run_name + '/' + run_name + '.grid')\n",
    "    plot_hill(g, show=False)\n",
    "    x = np.array([0., xmax[i]])\n",
    "    y = x * np.tan(theta_pred[i])\n",
    "    plt.plot(x, y, 'r')\n",
    "    plt.savefig(run_name + '.png', bbox_inches='tight')\n",
    "    plt.clf()"
   ]
  },
  {
   "cell_type": "code",
   "execution_count": 20,
   "metadata": {},
   "outputs": [
    {
     "name": "stdout",
     "output_type": "stream",
     "text": [
      "[ 0.144  0.36   0.576  0.792  0.36   0.576]\n",
      "[ 51.7206243   38.89980398  24.83030708   7.62719063  38.89980398\n",
      "  24.83030708]\n"
     ]
    }
   ],
   "source": [
    "print(sprime)\n",
    "print(np.degrees(theta_pred))"
   ]
  },
  {
   "cell_type": "markdown",
   "metadata": {},
   "source": [
    "Note that the above code for plotting sends output to a set of .png files."
   ]
  }
 ],
 "metadata": {
  "kernelspec": {
   "display_name": "Python 3",
   "language": "python",
   "name": "python3"
  },
  "language_info": {
   "codemirror_mode": {
    "name": "ipython",
    "version": 3
   },
   "file_extension": ".py",
   "mimetype": "text/x-python",
   "name": "python",
   "nbconvert_exporter": "python",
   "pygments_lexer": "ipython3",
   "version": "3.6.7"
  }
 },
 "nbformat": 4,
 "nbformat_minor": 2
}
