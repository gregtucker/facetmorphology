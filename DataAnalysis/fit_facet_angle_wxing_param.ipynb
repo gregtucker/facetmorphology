{
 "cells": [
  {
   "cell_type": "markdown",
   "metadata": {},
   "source": [
    "This notebook does calculation and plotting to test whether the GrainFacetModel, in its \"dissolution\" configuration---that is, transport-limited with no production of sediment---obeys the formulation in Tucker et al. (2011), which says that the difference in angle between the fault plane ($\\alpha_r$) and the facet ($\\gamma_r$) equals the ratio of weathering rate, $W$, to slip rate, $V$:\n",
    "\n",
    "$\\alpha_r - \\gamma_r = W / V$\n",
    "\n",
    "Here the $r$ subscript reminds us that the angle measurements are in radians.\n",
    "\n",
    "One problem, however, is that we do not know the weathering rate *a priori*. Instead, we set the dissolution transition probability, $s$ (dimensions of 1/time). One might expect the resultant weathering rate to simply be cell size times transition rate, $\\delta s$. This doesn't quite work, for two reasons. First, there is a geometric correction related to the hex lattice geometry (a \"cut\" through the lattice would tend to produce 2 faces per cell, and cells have the cross-sectional area of a hexagon). Second, and likely more important, the surface roughens as a result of weathering, which tends to increase the actual rate of weathering. Therefore, we expect the actual weathering rate to be higher than $\\delta s$. If we represent this effect with a coefficient, $a>1$, then the above becomes:\n",
    "\n",
    "$\\alpha_r - \\gamma_r = a\\delta s / V$.\n",
    "\n",
    "We know $\\delta$ and $V$ (which are constants in the model experiments), and $s$ (which is the independent variable), so the hypothesis to test is that there is indeed some $a>1$ that explains the outcome of the model. So the exercise is to do a least-squares linear regression on the above (with a zero intercept) and see whether indeed there is a reasonable fit.\n"
   ]
  },
  {
   "cell_type": "code",
   "execution_count": 9,
   "metadata": {},
   "outputs": [],
   "source": [
    "import csv\n",
    "import numpy as np\n",
    "import matplotlib.pyplot as plt\n",
    "%matplotlib inline"
   ]
  },
  {
   "cell_type": "code",
   "execution_count": 10,
   "metadata": {},
   "outputs": [],
   "source": [
    "filename = 'dissolution_only_results20180717.csv'"
   ]
  },
  {
   "cell_type": "code",
   "execution_count": 11,
   "metadata": {},
   "outputs": [
    {
     "name": "stdout",
     "output_type": "stream",
     "text": [
      "Landlab version 1.4.0+213.gc1191879 \n",
      "Dissolution rate parameter (1/yr) Gradient (m/m) Slope angle (deg)\n",
      "4e-05 1.4848188132399602 56.040409696498955\n",
      "8e-05 1.248837768101174 51.31419028143727\n",
      "0.00012000000000000002 1.0629500634664806 46.74781453781527\n",
      "0.00016 0.9375061778667241 43.152578122648315\n",
      "0.0002 0.8071207219017609 38.90771833154152\n",
      "0.00024 0.7020705392069188 35.071562342900265\n",
      "0.00028000000000000003 0.5629313484897664 29.376524262447827\n",
      "0.00032 0.42841575538113974 23.191054719586457\n",
      "0.00036 0.2565958550711758 14.391372149373215\n",
      "0.0004 0.20656848025185617 11.671342495104037\n",
      "0.00044 0.10706918513524637 6.11133034512308\n",
      "0.00048 0.09597515674461617 5.482180025836164\n"
     ]
    }
   ],
   "source": [
    "# Count number of lines in file\n",
    "num_lines = len(open(filename).readlines(  ))\n",
    "\n",
    "# Create data arrays\n",
    "diss_param = np.zeros(num_lines - 2)  # skip 2 header lines\n",
    "facet_angle = np.zeros(num_lines - 2)\n",
    "\n",
    "# Read data\n",
    "with open(filename, 'r') as csvfile:\n",
    "    myreader = csv.reader(csvfile)\n",
    "    i = 0\n",
    "    for row in myreader:\n",
    "        print(' '.join(row))\n",
    "        if i >= 2:\n",
    "            diss_param[i-2] = row[0]\n",
    "            facet_angle[i-2] = row[2]\n",
    "        i += 1"
   ]
  },
  {
   "cell_type": "code",
   "execution_count": 12,
   "metadata": {},
   "outputs": [],
   "source": [
    "filename = 'dissolution_long_domain20190311.csv'"
   ]
  },
  {
   "cell_type": "code",
   "execution_count": 13,
   "metadata": {},
   "outputs": [
    {
     "name": "stdout",
     "output_type": "stream",
     "text": [
      "Landlab version 1.7.0+15.g1764eb3f \n",
      "Dissolution rate parameter (1/yr) Gradient (m/m) Slope angle (deg)\n",
      "0.0002 0.82404884912 39.4901895413\n",
      "0.00024 0.644706866237 32.810153595\n",
      "0.00028 0.534296429598 28.115431014\n",
      "0.00032 0.441043524674 23.7995670076\n",
      "0.00036 0.288452281903 16.0903267272\n",
      "0.0004 0.201972724765 11.4185726704\n",
      "0.00044 0.10976357524 6.26391395369\n",
      "0.00048 0.0224836295957 1.28800007937\n"
     ]
    }
   ],
   "source": [
    "# Count number of lines in file\n",
    "num_lines = len(open(filename).readlines(  ))\n",
    "\n",
    "# Create data arrays\n",
    "diss_param_long = np.zeros(num_lines - 2)  # skip 2 header lines\n",
    "facet_angle_long = np.zeros(num_lines - 2)\n",
    "\n",
    "# Read data\n",
    "with open(filename, 'r') as csvfile:\n",
    "    myreader = csv.reader(csvfile)\n",
    "    i = 0\n",
    "    for row in myreader:\n",
    "        print(' '.join(row))\n",
    "        if i >= 2:\n",
    "            diss_param_long[i-2] = row[0]\n",
    "            facet_angle_long[i-2] = row[2]\n",
    "        i += 1"
   ]
  },
  {
   "cell_type": "code",
   "execution_count": 14,
   "metadata": {},
   "outputs": [
    {
     "data": {
      "text/plain": [
       "(0, 60)"
      ]
     },
     "execution_count": 14,
     "metadata": {},
     "output_type": "execute_result"
    },
    {
     "data": {
      "image/png": "[encoded data removed]",
      "text/plain": [
       "<Figure size 432x288 with 1 Axes>"
      ]
     },
     "metadata": {
      "needs_background": "light"
     },
     "output_type": "display_data"
    }
   ],
   "source": [
    "plt.plot(diss_param, 60.0 - facet_angle, 'o')\n",
    "plt.plot(diss_param_long, 60.0 - facet_angle_long, '+')\n",
    "plt.xlabel(r'Dissolution rate parameter, $s$')\n",
    "plt.ylabel(r'$\\alpha - \\gamma$')\n",
    "plt.xlim([0, 0.00045])\n",
    "plt.ylim([0, 60])"
   ]
  },
  {
   "cell_type": "markdown",
   "metadata": {},
   "source": [
    "There's one other adjustment to note: here, we're working in degrees. Noting that $\\alpha = (180/\\pi) \\alpha_r$ and similarly for $\\gamma$, our formula for the angle difference is:\n",
    "\n",
    "$\\alpha - \\gamma = \\frac{180}{\\pi}\\frac{a\\delta}{V}s = bs$\n",
    "\n",
    "So if we can fit $b$, we can back out $a$."
   ]
  },
  {
   "cell_type": "code",
   "execution_count": 15,
   "metadata": {},
   "outputs": [
    {
     "name": "stdout",
     "output_type": "stream",
     "text": [
      "[116657.64661253]\n"
     ]
    }
   ],
   "source": [
    "# To use linalg.lstsq, we need to transpose $w$\n",
    "x = diss_param[:,np.newaxis]\n",
    "y = 60.0 - facet_angle  # angle difference\n",
    "\n",
    "# Fit with zero intercept (the \"rcond\" parameter supresses a\n",
    "# warning)\n",
    "b, _, _, _ = np.linalg.lstsq(x, y, rcond=None)\n",
    "print(b)"
   ]
  },
  {
   "cell_type": "code",
   "execution_count": 16,
   "metadata": {},
   "outputs": [
    {
     "data": {
      "text/plain": [
       "[<matplotlib.lines.Line2D at 0x11c8515c0>]"
      ]
     },
     "execution_count": 16,
     "metadata": {},
     "output_type": "execute_result"
    },
    {
     "data": {
      "image/png": "[encoded data removed]",
      "text/plain": [
       "<Figure size 432x288 with 1 Axes>"
      ]
     },
     "metadata": {
      "needs_background": "light"
     },
     "output_type": "display_data"
    }
   ],
   "source": [
    "plt.plot(x, y, 'o')\n",
    "plt.plot([0, 0.00045], [0, b * 0.00045])"
   ]
  },
  {
   "cell_type": "markdown",
   "metadata": {},
   "source": [
    "Now, to back out $a$, we use:\n",
    "\n",
    "$a = \\frac{\\pi V}{180\\delta}b$\n",
    "\n",
    "In these particular model runs, $V=0.001$ m/yr and $\\delta=1$ m."
   ]
  },
  {
   "cell_type": "code",
   "execution_count": 17,
   "metadata": {},
   "outputs": [
    {
     "name": "stdout",
     "output_type": "stream",
     "text": [
      "[2.03606003]\n"
     ]
    }
   ],
   "source": [
    "V = 0.001\n",
    "delta = 1.0\n",
    "a = b * np.pi * V / (180.0 * delta)\n",
    "print(a)"
   ]
  },
  {
   "cell_type": "markdown",
   "metadata": {},
   "source": [
    "Wow, this is actually an encouraging result. Our naive expectation is that the effective lowering rate would be $2\\delta s$. The factor of 2 comes from the fact that two faces are exposed per hex cell.\n",
    "\n",
    "The simple expectation is:\n",
    "\n",
    "$\\alpha - \\gamma = \\frac{360 \\delta}{\\pi V} s$.\n",
    "\n",
    "This means that the expected value of $b$ is\n",
    "\n",
    "$b' = \\frac{360 \\delta}{\\pi V}$.\n",
    "\n",
    "Is this anywhere near our best fit?"
   ]
  },
  {
   "cell_type": "code",
   "execution_count": 18,
   "metadata": {},
   "outputs": [
    {
     "name": "stdout",
     "output_type": "stream",
     "text": [
      "114591.55902616464\n"
     ]
    }
   ],
   "source": [
    "b_exp = 360.0 * delta / (np.pi * V)\n",
    "print(b_exp)"
   ]
  },
  {
   "cell_type": "markdown",
   "metadata": {},
   "source": [
    "Gorgeous! So now let's simply re-do the plot, but this time with the expected fit:"
   ]
  },
  {
   "cell_type": "code",
   "execution_count": 19,
   "metadata": {},
   "outputs": [
    {
     "data": {
      "text/plain": [
       "<matplotlib.legend.Legend at 0x11d1a38d0>"
      ]
     },
     "execution_count": 19,
     "metadata": {},
     "output_type": "execute_result"
    },
    {
     "data": {
      "image/png": "[encoded data removed]",
      "text/plain": [
       "<Figure size 432x288 with 1 Axes>"
      ]
     },
     "metadata": {
      "needs_background": "light"
     },
     "output_type": "display_data"
    }
   ],
   "source": [
    "plt.plot(1000.0 * diss_param, y, 'o')\n",
    "plt.plot(1000.0 * diss_param_long, 60.0 - facet_angle_long, '+')\n",
    "plt.plot([0.0, 0.45], [0.0, b_exp * 0.00045])\n",
    "plt.xlabel(r'Dissolution rate parameter, $s$, ky$^{-1}$')\n",
    "plt.ylabel(r'($\\alpha - \\theta$), degrees')\n",
    "plt.xlim([0, 0.45])\n",
    "plt.ylim([0, 60])\n",
    "plt.legend(['Model (short domain)', 'Model (long domain)', 'Analytical'])"
   ]
  },
  {
   "cell_type": "markdown",
   "metadata": {},
   "source": [
    "Here's a slightly different version:"
   ]
  },
  {
   "cell_type": "code",
   "execution_count": 22,
   "metadata": {},
   "outputs": [
    {
     "data": {
      "image/png": "[encoded data removed]",
      "text/plain": [
       "<Figure size 432x288 with 1 Axes>"
      ]
     },
     "metadata": {
      "needs_background": "light"
     },
     "output_type": "display_data"
    }
   ],
   "source": [
    "# expected weathering rate, mm/yr\n",
    "wx_exp = 2.0 * 1000.0 * delta * diss_param\n",
    "wx_exp_long = 2.0 * 1000.0 * delta * diss_param_long\n",
    "\n",
    "# 180 / (pi V): the coefficient for 2 delta s (instead of just s)\n",
    "# The factor of 1000.0 converts V to mm/yr (or m/ky)\n",
    "c = 180.0 / (np.pi * 1000.0 * V)\n",
    "\n",
    "plt.plot(wx_exp, y, 'ko', fillstyle='none')\n",
    "plt.plot(wx_exp_long, 60.0 - facet_angle_long, 'k+')\n",
    "plt.plot([0.0, 1.0], [0.0, c], 'k')\n",
    "plt.xlabel(r'Effective weathering rate ($2 \\delta s$), mm/yr')\n",
    "plt.ylabel(r'($\\alpha - \\theta$), degrees')\n",
    "plt.xlim([0, 1.0])\n",
    "plt.ylim([0, 60])\n",
    "plt.legend(['Model (narrow facet)', 'Model (wide facet)', 'Analytical'])\n",
    "plt.savefig('../modeling-shape-evolution/Figures/angle_vs_dissolution.pdf')"
   ]
  },
  {
   "cell_type": "markdown",
   "metadata": {},
   "source": [
    "Here we'll print the corresponding values of $S' = 2 \\delta s / V$:"
   ]
  },
  {
   "cell_type": "code",
   "execution_count": 16,
   "metadata": {},
   "outputs": [
    {
     "data": {
      "text/plain": [
       "array([0.08, 0.16, 0.24, 0.32, 0.4 , 0.48, 0.56, 0.64, 0.72, 0.8 , 0.88,\n",
       "       0.96])"
      ]
     },
     "execution_count": 16,
     "metadata": {},
     "output_type": "execute_result"
    }
   ],
   "source": [
    "s = 2.0 * delta * diss_param / V\n",
    "s"
   ]
  },
  {
   "cell_type": "markdown",
   "metadata": {},
   "source": [
    "and corresponding facet angles:"
   ]
  },
  {
   "cell_type": "code",
   "execution_count": 17,
   "metadata": {},
   "outputs": [
    {
     "data": {
      "text/plain": [
       "array([56.0404097 , 51.31419028, 46.74781454, 43.15257812, 38.90771833,\n",
       "       35.07156234, 29.37652426, 23.19105472, 14.39137215, 11.6713425 ,\n",
       "        6.11133035,  5.48218003])"
      ]
     },
     "execution_count": 17,
     "metadata": {},
     "output_type": "execute_result"
    }
   ],
   "source": [
    "facet_angle"
   ]
  },
  {
   "cell_type": "markdown",
   "metadata": {},
   "source": [
    "Predicted facet angle:"
   ]
  },
  {
   "cell_type": "code",
   "execution_count": 18,
   "metadata": {},
   "outputs": [
    {
     "data": {
      "text/plain": [
       "array([55.41633764, 50.83267528, 46.24901292, 41.66535056, 37.08168819,\n",
       "       32.49802583, 27.91436347, 23.33070111, 18.74703875, 14.16337639,\n",
       "        9.57971403,  4.99605167])"
      ]
     },
     "execution_count": 18,
     "metadata": {},
     "output_type": "execute_result"
    }
   ],
   "source": [
    "theta_pred = np.degrees(np.radians(60.0) - s)\n",
    "theta_pred"
   ]
  },
  {
   "cell_type": "markdown",
   "metadata": {},
   "source": [
    "Side-by-side list"
   ]
  },
  {
   "cell_type": "code",
   "execution_count": 19,
   "metadata": {},
   "outputs": [
    {
     "name": "stdout",
     "output_type": "stream",
     "text": [
      "(0.08, 55.416337638953415, 56.040409696498955)\n",
      "(0.16, 50.83267527790682, 51.31419028143727)\n",
      "(0.24000000000000002, 46.24901291686024, 46.74781453781527)\n",
      "(0.32, 41.665350555813646, 43.152578122648315)\n",
      "(0.4, 37.08168819476707, 38.90771833154152)\n",
      "(0.48, 32.49802583372048, 35.071562342900265)\n",
      "(0.56, 27.91436347267389, 29.376524262447827)\n",
      "(0.64, 23.33070111162731, 23.191054719586457)\n",
      "(0.7200000000000001, 18.747038750580717, 14.391372149373215)\n",
      "(0.8, 14.163376389534134, 11.671342495104037)\n",
      "(0.88, 9.579714028487551, 6.11133034512308)\n",
      "(0.96, 4.996051667440968, 5.482180025836164)\n"
     ]
    }
   ],
   "source": [
    "for i in range(len(s)):\n",
    "    print((s[i], theta_pred[i], facet_angle[i]))"
   ]
  },
  {
   "cell_type": "markdown",
   "metadata": {},
   "source": [
    "## Adding predicted dip angle to model images\n",
    "\n",
    "The following block of code produces plots of the predicted facet angle, to overlay on top of model images."
   ]
  },
  {
   "cell_type": "code",
   "execution_count": 2,
   "metadata": {},
   "outputs": [
    {
     "name": "stdout",
     "output_type": "stream",
     "text": [
      "(50.83267527790682, array([ 0.        , 85.92848531]))\n",
      "(37.08168819476707, array([ 0.       , 52.9054242]))\n",
      "(23.33070111162731, array([ 0.        , 30.19123841]))\n",
      "(9.579714028487551, array([ 0.        , 11.81412231]))\n"
     ]
    },
    {
     "data": {
      "image/png": "[encoded data removed]",
      "text/plain": [
       "<Figure size 432x288 with 1 Axes>"
      ]
     },
     "metadata": {
      "needs_background": "light"
     },
     "output_type": "display_data"
    }
   ],
   "source": [
    "import matplotlib.pyplot as plt\n",
    "import numpy as np\n",
    "%matplotlib inline\n",
    "\n",
    "s = np.array([0.16, .4, 0.64, .88])\n",
    "tpred = np.radians(60) - s\n",
    "for t in tpred:\n",
    "    x = np.array([0., 70.])\n",
    "    y = x * np.tan(t)\n",
    "    print((np.degrees(t), y))\n",
    "    plt.plot(x, y, 'r')\n",
    "    plt.axis([-1.0, 70.5, -1.0, 111.0])\n",
    "    plt.gca().set_aspect('equal')\n",
    "plt.savefig('predicted_angles.pdf')"
   ]
  },
  {
   "cell_type": "markdown",
   "metadata": {},
   "source": [
    "Make a plot with the domain twice as long, with $S' = 0.48$:"
   ]
  },
  {
   "cell_type": "code",
   "execution_count": 4,
   "metadata": {},
   "outputs": [
    {
     "name": "stdout",
     "output_type": "stream",
     "text": [
      "(37.08168819476707, array([  0.        , 105.81084841]))\n",
      "(23.33070111162731, array([ 0.        , 60.38247682]))\n"
     ]
    },
    {
     "data": {
      "image/png": "[encoded data removed]",
      "text/plain": [
       "<Figure size 432x288 with 1 Axes>"
      ]
     },
     "metadata": {
      "needs_background": "light"
     },
     "output_type": "display_data"
    }
   ],
   "source": [
    "s = np.array([.4, .64])\n",
    "tpred = np.radians(60) - s\n",
    "for t in tpred:\n",
    "    x = np.array([0., 140.])\n",
    "    y = x * np.tan(t)\n",
    "    print((np.degrees(t), y))\n",
    "    plt.plot(x, y, 'r')\n",
    "    plt.axis([-1.0, 141., -1.0, 111.0])\n",
    "    plt.gca().set_aspect('equal')\n",
    "    plt.savefig('predicted_angle_long.pdf')"
   ]
  },
  {
   "cell_type": "code",
   "execution_count": null,
   "metadata": {},
   "outputs": [],
   "source": []
  }
 ],
 "metadata": {
  "kernelspec": {
   "display_name": "Python 3",
   "language": "python",
   "name": "python3"
  },
  "language_info": {
   "codemirror_mode": {
    "name": "ipython",
    "version": 3
   },
   "file_extension": ".py",
   "mimetype": "text/x-python",
   "name": "python",
   "nbconvert_exporter": "python",
   "pygments_lexer": "ipython3",
   "version": "3.6.7"
  }
 },
 "nbformat": 4,
 "nbformat_minor": 2
}
