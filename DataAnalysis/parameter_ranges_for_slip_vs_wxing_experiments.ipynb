{
 "cells": [
  {
   "cell_type": "markdown",
   "metadata": {},
   "source": [
    "# Notes on setting parameter ranges for experiments on slip rate versus weathering rate\n",
    "\n",
    "The goal is a set of 121 sensitivity experiments (11 x 11) exploring the parameter space of dimensionless slip rate versus the ratio of weathering to disturbance rates. Dimensionless slip rate is here defined as:\n",
    "\n",
    "$V' = \\frac{V}{\\delta d}$\n",
    "\n",
    "and the weathering ratio is simply $w/d$.\n",
    "\n",
    "To start, identify dimensional values of $V$, $d$, and $w$. The idea is that the sensitivity analysis should include reasonable values for these parameters. So what's reasonable? Slip rates between 0.2 and 1 mm/yr are common in active normal faults, so it would be good to have a number in that span lie somewhere in the middle of our experimental range. For $d$, we start with the finding of Tucker et al. (2018) that the effective soil diffusivity, $D_s$, relates to $d$ by\n",
    "\n",
    "$D_s = 60 d \\delta^2$,\n",
    "\n",
    "or\n",
    "\n",
    "$d = \\frac{D_s}{60 \\delta^2}$.\n",
    "\n",
    "Based on much literature, a reasonable range for $D_s$ is 0.001 to 0.01 m$^2$/yr. In our case, $\\delta = 0.5$ m. This means that we want the sensitivity analysis to use a fixed value of $d$ that is larger than:\n",
    "\n"
   ]
  },
  {
   "cell_type": "code",
   "execution_count": 4,
   "metadata": {},
   "outputs": [
    {
     "data": {
      "text/plain": [
       "6.666666666666667e-05"
      ]
     },
     "execution_count": 4,
     "metadata": {},
     "output_type": "execute_result"
    }
   ],
   "source": [
    "delta = 0.5\n",
    "d_lower = 0.001 / (60.0 * delta * delta)\n",
    "d_lower"
   ]
  },
  {
   "cell_type": "markdown",
   "metadata": {},
   "source": [
    "and smaller than 10 times that value. A reasonable choice then would be $d = 10^{-4}$ yr$^{-1}$.\n",
    "\n",
    "Likewise, it would be good to have the span of $w$ values include a geologically plausible value. If we take the center point as $w/d = 1$, then the maximum weathering rate is $W_{max} = 2 \\delta w = 10^{-4}$ m/yr, which is consistent with estimates of bare-bedrock soil production rate.\n",
    "\n",
    "This then leads to the following ranges for a sensitivity analysis:\n",
    "\n"
   ]
  },
  {
   "cell_type": "code",
   "execution_count": 9,
   "metadata": {},
   "outputs": [
    {
     "data": {
      "text/plain": [
       "array([1.00000000e-05, 1.58489319e-05, 2.51188643e-05, 3.98107171e-05,\n",
       "       6.30957344e-05, 1.00000000e-04, 1.58489319e-04, 2.51188643e-04,\n",
       "       3.98107171e-04, 6.30957344e-04, 1.00000000e-03])"
      ]
     },
     "execution_count": 9,
     "metadata": {},
     "output_type": "execute_result"
    }
   ],
   "source": [
    "import numpy as np\n",
    "\n",
    "w = 10.0 ** np.arange(-5, -2.8, 0.2)\n",
    "w"
   ]
  },
  {
   "cell_type": "code",
   "execution_count": 10,
   "metadata": {},
   "outputs": [
    {
     "data": {
      "text/plain": [
       "array([ 0.1       ,  0.15848932,  0.25118864,  0.39810717,  0.63095734,\n",
       "        1.        ,  1.58489319,  2.51188643,  3.98107171,  6.30957344,\n",
       "       10.        ])"
      ]
     },
     "execution_count": 10,
     "metadata": {},
     "output_type": "execute_result"
    }
   ],
   "source": [
    "d = 1.0e-4\n",
    "w_over_d = w / d\n",
    "w_over_d"
   ]
  },
  {
   "cell_type": "markdown",
   "metadata": {},
   "source": [
    "For $V$, our direct control is on time interval $\\tau$. The relation between the two is:\n",
    "\n",
    "$V = \\sqrt{3} \\delta / \\tau$\n",
    "\n",
    "$\\tau = \\sqrt{3} \\delta / V$\n",
    "\n",
    "so for $V$ between 0.2 and 1 mm/yr, the corresponding ranges of $\\tau$ are:"
   ]
  },
  {
   "cell_type": "code",
   "execution_count": 11,
   "metadata": {},
   "outputs": [
    {
     "data": {
      "text/plain": [
       "array([4330.12701892,  866.02540378])"
      ]
     },
     "execution_count": 11,
     "metadata": {},
     "output_type": "execute_result"
    }
   ],
   "source": [
    "V = 1.0e-3 * np.array([0.2, 1])\n",
    "tau = np.sqrt(3) * delta / V\n",
    "tau"
   ]
  },
  {
   "cell_type": "markdown",
   "metadata": {},
   "source": [
    "Therefore, if we want to span two orders of magnitude in sensitivity analysis, an approach that contains these values would be:"
   ]
  },
  {
   "cell_type": "code",
   "execution_count": 13,
   "metadata": {},
   "outputs": [
    {
     "data": {
      "text/plain": [
       "array([  100.        ,   158.48931925,   251.18864315,   398.10717055,\n",
       "         630.95734448,  1000.        ,  1584.89319246,  2511.88643151,\n",
       "        3981.07170553,  6309.5734448 , 10000.        ])"
      ]
     },
     "execution_count": 13,
     "metadata": {},
     "output_type": "execute_result"
    }
   ],
   "source": [
    "tau_range = 10.0 ** np.arange(2, 4.2, 0.2)\n",
    "tau_range"
   ]
  },
  {
   "cell_type": "code",
   "execution_count": null,
   "metadata": {},
   "outputs": [],
   "source": []
  }
 ],
 "metadata": {
  "kernelspec": {
   "display_name": "Python 3",
   "language": "python",
   "name": "python3"
  },
  "language_info": {
   "codemirror_mode": {
    "name": "ipython",
    "version": 3
   },
   "file_extension": ".py",
   "mimetype": "text/x-python",
   "name": "python",
   "nbconvert_exporter": "python",
   "pygments_lexer": "ipython3",
   "version": "3.6.7"
  }
 },
 "nbformat": 4,
 "nbformat_minor": 2
}
