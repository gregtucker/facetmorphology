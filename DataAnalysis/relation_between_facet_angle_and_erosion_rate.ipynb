{
 "cells": [
  {
   "cell_type": "markdown",
   "metadata": {},
   "source": [
    "# Notes on the relationship between erosion rate and facet angle\n",
    "\n",
    "Building on Tucker et al. (2011), consider the cross-sectional profile of a facet with a uniform dip angle $\\theta$. The dip angle of the fault is $\\alpha$ and its slip rate is $V$. We want to know what is the implied *vertical* erosion rate for a given $\\theta$, $\\alpha$, and $V$.\n",
    "\n",
    "Consider a location in the footwall at a horizontal distance $x$ from the fault trace. The time $t$ taken for rock to reach that location from the fault trace is equal to the distance, $x$, divided by the horizontal component of slip rate, $v_h$. This in turn implies that\n",
    "\n",
    "$x = v_h t$.\n",
    "\n",
    "By simple geometry, the horizontal component of slip rate is\n",
    "\n",
    "$v_h = V \\cos \\alpha$.\n",
    "\n",
    "If $\\alpha = 60^\\circ$, as we'll generally assume here, then $v_h = V / 2$.\n",
    "\n",
    "We can imagine a triangle formed by the cumulative fault slip $Vt$ (the hypotenuse), the horizontal component $v_h = V\\cos\\alpha$, and the vertical component $v_v = V\\sin\\alpha$. Thus, the three sides of the triangle are $Vt$ (hypotenuse), $Vt\\cos\\alpha$ (base), and $Vt\\sin\\alpha$ (height). If $\\alpha=60^\\circ$, the sides of the triangle are $Vt$, $Vt/2$, and $\\sqrt{3}Vt/2$, respectively.\n",
    "\n",
    "Now consider the case when the facet dip is less than that of the fault dip. This implies that at horizontal position $x = v_h t$, there is an uneroded vertical column of rock of height $H$, where $\\tan\\theta = H/x$, and therefore\n",
    "\n",
    "$H = x\\tan\\theta = v_h t \\frac{\\sin\\theta}{\\cos\\theta}$\n",
    "\n",
    "$=V t \\frac{\\cos\\alpha\\sin\\theta}{\\cos\\theta}$.\n",
    "\n",
    "As a check on this math, note that if $\\theta = 0$, then $H=0$ (the surface is flat), whereas if $\\theta = \\alpha$, then we simply have the height of original (uneroded) triangle $Vt\\sin\\alpha$.\n",
    "\n",
    "The cumulative erosion depth $h_e$ is the difference between the total column height if there were no erosion, and the actual column height:\n",
    "\n",
    "$h_e = Vt\\sin\\alpha - H = Vt\\sin\\alpha - Vt\\frac{\\cos\\alpha\\sin\\theta}{\\cos\\theta}$\n",
    "\n",
    "$= Vt \\left( \\sin\\alpha - \\frac{\\cos\\alpha\\sin\\theta}{\\cos\\theta} \\right)$.\n",
    "\n",
    "The cumulative vertical erosion $h_e$ at position $x$ is also equal to the vertical erosion rate $E_v$ times the elapsed time, $t$, which implies\n",
    "\n",
    "$E_v = V \\left( \\sin\\alpha - \\frac{\\cos\\alpha\\sin\\theta}{\\cos\\theta} \\right)$.\n",
    "\n",
    "We can do a basic sanity check. If $\\theta = \\alpha$ then the erosion rate should be zero, as it is above (the quantity in parentheses is zero). If $\\theta = 0$, then the vertical erosion rate should equal the vertical component of slip. And indeed because the right-hand term in parentheses is zero when $\\theta=0$, we have $E_v = V\\sin\\alpha$, which is the vertical component of slip rate.\n",
    "\n",
    "Below, we plot this relationship, and look at some example scenarios."
   ]
  },
  {
   "cell_type": "code",
   "execution_count": 2,
   "metadata": {},
   "outputs": [],
   "source": [
    "def normalized_ero_rate(theta, alpha=60.0):\n",
    "    alphar = np.radians(alpha)\n",
    "    thetar = np.radians(theta)\n",
    "    return np.sin(alphar) - np.cos(alphar) * (np.sin(thetar)\n",
    "                                              / np.cos(thetar))"
   ]
  },
  {
   "cell_type": "code",
   "execution_count": 3,
   "metadata": {},
   "outputs": [],
   "source": [
    "import matplotlib.pyplot as plt\n",
    "import numpy as np"
   ]
  },
  {
   "cell_type": "code",
   "execution_count": 4,
   "metadata": {},
   "outputs": [],
   "source": [
    "alpha = 60.0\n",
    "theta = np.arange(0, 61)\n",
    "EvV = normalized_ero_rate(theta, alpha)"
   ]
  },
  {
   "cell_type": "code",
   "execution_count": 5,
   "metadata": {},
   "outputs": [
    {
     "data": {
      "image/png": "[encoded data removed]",
      "text/plain": [
       "<Figure size 432x288 with 1 Axes>"
      ]
     },
     "metadata": {
      "needs_background": "light"
     },
     "output_type": "display_data"
    }
   ],
   "source": [
    "plt.plot(theta, EvV)\n",
    "plt.xlabel(r'$\\theta$ (degrees)')\n",
    "plt.ylabel(r'$E_n / V$')\n",
    "plt.grid(True)"
   ]
  },
  {
   "cell_type": "markdown",
   "metadata": {},
   "source": [
    "As expected, when the facet and fault dip are the same, the erosion rate is zero. When the facet angle is zero, meaning the surface is flat, erosion is vertical and its rate is equal to the vertical component of the slip rate. That vertical component is:\n",
    "\n",
    "$v_v = V\\sin\\alpha$, which for $\\alpha = 60^\\circ$ again is $(\\sqrt{3}/2) V$:"
   ]
  },
  {
   "cell_type": "code",
   "execution_count": 6,
   "metadata": {},
   "outputs": [
    {
     "data": {
      "text/plain": [
       "0.8660254037844386"
      ]
     },
     "execution_count": 6,
     "metadata": {},
     "output_type": "execute_result"
    }
   ],
   "source": [
    "normalized_ero_rate(0.0)"
   ]
  },
  {
   "cell_type": "markdown",
   "metadata": {},
   "source": [
    "And for $\\alpha = 30^\\circ$:"
   ]
  },
  {
   "cell_type": "code",
   "execution_count": 7,
   "metadata": {},
   "outputs": [
    {
     "data": {
      "text/plain": [
       "0.5773502691896257"
      ]
     },
     "execution_count": 7,
     "metadata": {},
     "output_type": "execute_result"
    }
   ],
   "source": [
    "normalized_ero_rate(30.0)"
   ]
  },
  {
   "cell_type": "markdown",
   "metadata": {},
   "source": [
    "Suppose, for example, the slip rate is $\\sqrt{3}$ mm/yr. (Because of the grid geometry in the GrainFacet model, this is rate one gets using $\\delta=1$ m and $\\tau = 1,000$ yr.) Then for a flat slope, the vertical component of slip rate, $v_v$, and the vertical erosion rate, $E_v$, should be identical. Using the result above, we can calculate $v_v$ as:"
   ]
  },
  {
   "cell_type": "code",
   "execution_count": 9,
   "metadata": {},
   "outputs": [
    {
     "data": {
      "text/plain": [
       "1.4999999999999998"
      ]
     },
     "execution_count": 9,
     "metadata": {},
     "output_type": "execute_result"
    }
   ],
   "source": [
    "V = np.sqrt(3)\n",
    "V * np.sin(np.radians(60.0))"
   ]
  },
  {
   "cell_type": "markdown",
   "metadata": {},
   "source": [
    "And we can calculate $E_v$ as:"
   ]
  },
  {
   "cell_type": "code",
   "execution_count": 10,
   "metadata": {},
   "outputs": [
    {
     "data": {
      "text/plain": [
       "1.4999999999999998"
      ]
     },
     "execution_count": 10,
     "metadata": {},
     "output_type": "execute_result"
    }
   ],
   "source": [
    "V * normalized_ero_rate(0.0, 60.0)"
   ]
  },
  {
   "cell_type": "markdown",
   "metadata": {},
   "source": [
    "Indeed we see they are the same, and the maximum erosion rate for this particular scenario is 1.5 mm/yr.\n",
    "\n",
    "Consider next the example of a $30^\\circ$ facet. Here the vertical erosion rate corresponding to the above slip rate would be:"
   ]
  },
  {
   "cell_type": "code",
   "execution_count": 11,
   "metadata": {},
   "outputs": [
    {
     "data": {
      "text/plain": [
       "0.9999999999999999"
      ]
     },
     "execution_count": 11,
     "metadata": {},
     "output_type": "execute_result"
    }
   ],
   "source": [
    "V * normalized_ero_rate(30.0, 60.0)"
   ]
  },
  {
   "cell_type": "markdown",
   "metadata": {},
   "source": [
    "So, for a $30^\\circ$ facet, the erosion rate is 2/3 of the theoretical maximum (i.e., what it would be for a flat \"facet\", where any uplifted material is immediately shaved off).\n",
    "\n",
    "Just for completeness, we can look at the cases of $15^\\circ$ ..."
   ]
  },
  {
   "cell_type": "code",
   "execution_count": 12,
   "metadata": {},
   "outputs": [
    {
     "data": {
      "text/plain": [
       "1.2679491924311224"
      ]
     },
     "execution_count": 12,
     "metadata": {},
     "output_type": "execute_result"
    }
   ],
   "source": [
    "V * normalized_ero_rate(15.0, 60.0)"
   ]
  },
  {
   "cell_type": "markdown",
   "metadata": {},
   "source": [
    "... and $45^\\circ$ ..."
   ]
  },
  {
   "cell_type": "code",
   "execution_count": 13,
   "metadata": {},
   "outputs": [
    {
     "data": {
      "text/plain": [
       "0.6339745962155612"
      ]
     },
     "execution_count": 13,
     "metadata": {},
     "output_type": "execute_result"
    }
   ],
   "source": [
    "V * normalized_ero_rate(45.0, 60.0)"
   ]
  },
  {
   "cell_type": "markdown",
   "metadata": {},
   "source": [
    "## Slope-normal erosion rate\n",
    "\n",
    "The vertical and slope-normal erosion rates are related by:\n",
    "\n",
    "$\\frac{E_n}{E_v} = \\cos \\theta$.\n",
    "\n",
    "If we substitute this above, we find that:\n",
    "\n",
    "$E_n = V \\left( \\sin\\alpha\\cos\\theta- \\cos\\alpha\\sin\\theta \\right)$.\n",
    "\n",
    "We plot this below:"
   ]
  },
  {
   "cell_type": "code",
   "execution_count": 14,
   "metadata": {},
   "outputs": [
    {
     "data": {
      "image/png": "[encoded data removed]",
      "text/plain": [
       "<Figure size 432x288 with 1 Axes>"
      ]
     },
     "metadata": {
      "needs_background": "light"
     },
     "output_type": "display_data"
    }
   ],
   "source": [
    "theta = np.arange(0, 61)\n",
    "thetar = np.radians(theta)\n",
    "alphar = np.radians(60.0)\n",
    "EnV = np.sin(alphar) * np.cos(thetar) - np.cos(alphar) * np.sin(thetar)\n",
    "plt.plot(theta, EnV)\n",
    "plt.xlabel(r'$\\theta$ (degrees)')\n",
    "plt.ylabel(r'$E_n / V$')\n",
    "plt.grid(True)"
   ]
  },
  {
   "cell_type": "markdown",
   "metadata": {},
   "source": [
    "For $\\theta = \\alpha = 60^\\circ$, there is no erosion and the fault plane is unmodified. For $\\theta = 0$, $E_n = E_v = \\sqrt{3} / 2$.\n",
    "\n",
    "Note that this differs from the result in Tucker et al. (2011), which reported the case of an arc-wise erosion vector.\n",
    "\n",
    "We can simplify the above formula by using two trigonometric identities:\n",
    "\n",
    "$\\sin \\alpha \\cos \\theta = (1/2) (\\sin (a+b) + \\sin (a-b) )$, and\n",
    "\n",
    "$\\cos \\alpha \\sin \\theta = (1/2) (\\sin (a+b) - \\sin (a-b) )$.\n",
    "\n",
    "Subtracting the two, as in the above equation, we get:\n",
    "\n",
    "$E_n / V = \\sin (\\alpha - \\theta )$.\n",
    "\n",
    "Let's just verify it by plotting:\n",
    "\n"
   ]
  },
  {
   "cell_type": "code",
   "execution_count": 15,
   "metadata": {},
   "outputs": [
    {
     "data": {
      "image/png": "[encoded data removed]",
      "text/plain": [
       "<Figure size 432x288 with 1 Axes>"
      ]
     },
     "metadata": {
      "needs_background": "light"
     },
     "output_type": "display_data"
    }
   ],
   "source": [
    "EnV = np.sin(alphar - thetar)\n",
    "plt.plot(theta, EnV)\n",
    "plt.xlabel(r'$\\theta$ (degrees)')\n",
    "plt.ylabel(r'$E_n / V$')\n",
    "plt.grid(True)"
   ]
  },
  {
   "cell_type": "markdown",
   "metadata": {},
   "source": [
    "Voila: c'est la meme truc."
   ]
  },
  {
   "cell_type": "markdown",
   "metadata": {},
   "source": [
    "## How to calculate vertical erosion rate from a facet simulation\n",
    "\n",
    "Suppose you have a snapshot from a GrainFacet simulation run that is in quasi-steady state with respect to tectonic forcing. How do you calculate the erosion rate? It is not as simple as it is for models with \"vertical uplift\" because mass can escape due to tectonic slip out the right side and possibly the top. However, we can use the basic theory above to calculate an effective erosion rate for each model column, and then average them together. Here's how it works.\n",
    "\n",
    "### Horizontal position of a column\n",
    "\n",
    "Let $c$ denote the column number in a run, starting from column zero at $x=0$. The spacing between columns is $\\sqrt{3}/2$ cell widths. Thus, the $x$ coordinate, in cell widths, is:\n",
    "\n",
    "$x(c) = \\frac{\\sqrt{3}}{2} c$.\n",
    "\n",
    "### Height of a column\n",
    "\n",
    "We can ask: what is the effective height of the column at that location? It's easy enough to count the number of nonzero cells in the column. We'll call this count $N(c)$. But how does that translate into height? First, let's assume that the land surface lies at the *center* of the top-most cell (of course, in plots, it *looks* like the surface is at the top of the filled cell, but this assumption is more consistent with how the fault is approximated in the model).\n",
    "\n",
    "If we happen to be in an even-numbered column, the center of the bottom-most cell is at $y=0$, and so the center of the top cell is $N-1$. But if we happen to be in an odd-numbered column, the column is shifted up by half a cell width. So for these, the center of the top cell is $N-1/2$. We can generalize as follows to get the height, $H(c)$, of any arbitrary column:\n",
    "\n",
    "$H(c) = N - \\frac{1}{1 + (c \\mod 2)}$\n",
    "\n",
    "This expression sets $H = N - 1$ for even columns, and $H = N - 0.5$ for odd columns.\n",
    "\n",
    "### Calculating erosion rate at a column\n",
    "\n",
    "To calculate the erosion rate at a single column, we start with the expression for $E_v$ derived above:\n",
    "\n",
    "$E_v / V = \\sin\\alpha - \\frac{\\cos\\alpha\\sin\\theta}{\\cos\\theta}$.\n",
    "\n",
    "Using $\\alpha = 60^\\circ$, and using numerical values of $\\sin\\alpha$ and $\\cos\\alpha$, this becomes:\n",
    "\n",
    "$E_v / V = \\frac{\\sqrt{3}}{2} - \\frac{1}{2} \\frac{\\sin\\theta}{\\cos\\theta}$.\n",
    "\n",
    "Noting that $\\sin\\theta / \\cos\\theta = \\tan\\theta = H / x$, we have:\n",
    "\n",
    "$\\frac{E_v}{V} = \\frac{\\sqrt{3}}{2} - \\frac{H}{2x}$.\n",
    "\n",
    "This is the formula we use to calculate vertical erosion rate, $E_v$, from column height, $H$, and horizontal position $x$.\n",
    "\n",
    "The calculation is encapsulated in the following function:"
   ]
  },
  {
   "cell_type": "code",
   "execution_count": 34,
   "metadata": {},
   "outputs": [],
   "source": [
    "def vert_ero_rate(c, N):\n",
    "    \"\"\"Normalized vertical erosion rate in column c with N solid cells.\n",
    "\n",
    "    Parameters\n",
    "    ----------\n",
    "    c : int\n",
    "        Column number\n",
    "    N : int\n",
    "        Number of solid cells in column\n",
    "    \"\"\"\n",
    "    x = 0.5 * np.sqrt(3) * c\n",
    "    if N <= 1:  # if only one cell, assume it's totally eroded\n",
    "        H = 0.0\n",
    "    else:\n",
    "        H = N - 1.0 / (1.0 + (c % 2))\n",
    "    return 0.5 * np.sqrt(3) - 0.5 * H / x"
   ]
  },
  {
   "cell_type": "markdown",
   "metadata": {},
   "source": [
    "### Examples\n",
    "\n",
    "Suppose you have only 1 cell in column 2. That's the minimum number of cells possible in the numerical model: the bottom-most cell is a boundary, and always contains rock. The erosion rate should equal the vertical component of slip rate, so $E_v/V$ should equal $\\sin 60^\\circ = \\sqrt{3}/2 \\approx 0.866$. Let's try it:"
   ]
  },
  {
   "cell_type": "code",
   "execution_count": 23,
   "metadata": {},
   "outputs": [
    {
     "data": {
      "text/plain": [
       "0.8660254037844386"
      ]
     },
     "execution_count": 23,
     "metadata": {},
     "output_type": "execute_result"
    }
   ],
   "source": [
    "vert_ero_rate(2, 1)"
   ]
  },
  {
   "cell_type": "markdown",
   "metadata": {},
   "source": [
    "The result should be the same in odd-numbered columns, say column 7:"
   ]
  },
  {
   "cell_type": "code",
   "execution_count": 24,
   "metadata": {},
   "outputs": [
    {
     "data": {
      "text/plain": [
       "0.8660254037844386"
      ]
     },
     "execution_count": 24,
     "metadata": {},
     "output_type": "execute_result"
    }
   ],
   "source": [
    "vert_ero_rate(7, 1)"
   ]
  },
  {
   "cell_type": "markdown",
   "metadata": {},
   "source": [
    "If we had a $60^\\circ$ slope, columns 3 and 4 would have 5 and 7 solid cells, respectively, and the erosion rate should be zero:"
   ]
  },
  {
   "cell_type": "code",
   "execution_count": 25,
   "metadata": {},
   "outputs": [
    {
     "data": {
      "text/plain": [
       "0.0"
      ]
     },
     "execution_count": 25,
     "metadata": {},
     "output_type": "execute_result"
    }
   ],
   "source": [
    "vert_ero_rate(3, 5)"
   ]
  },
  {
   "cell_type": "code",
   "execution_count": 26,
   "metadata": {},
   "outputs": [
    {
     "data": {
      "text/plain": [
       "-1.1102230246251565e-16"
      ]
     },
     "execution_count": 26,
     "metadata": {},
     "output_type": "execute_result"
    }
   ],
   "source": [
    "vert_ero_rate(4, 7)"
   ]
  },
  {
   "cell_type": "markdown",
   "metadata": {},
   "source": [
    "The latter result tells us there is a slight numerical inaccuracy: probably a subtraction-of-close-numbers error. To diagnose it, let's see how $H/x$ compares with $\\sqrt{3}$:"
   ]
  },
  {
   "cell_type": "code",
   "execution_count": 28,
   "metadata": {},
   "outputs": [
    {
     "name": "stdout",
     "output_type": "stream",
     "text": [
      "Square root of 3 is approxately: 1.7320508075688772\n",
      "H is: 6.0\n",
      "x is: 3.4641016151377544\n",
      "H / x is: 1.7320508075688774\n"
     ]
    }
   ],
   "source": [
    "c = 4\n",
    "N = 7\n",
    "H = N - 1.0 / (1.0 + (c % 2))\n",
    "x = 0.5 * np.sqrt(3) * c\n",
    "print('Square root of 3 is approxately: ' + str(np.sqrt(3)))\n",
    "print('H is: ' + str(H))\n",
    "print('x is: ' + str(x))\n",
    "print('H / x is: ' + str(H/x))"
   ]
  },
  {
   "cell_type": "markdown",
   "metadata": {},
   "source": [
    "We see that that there is a slight numerical error in $H/x$: it is off in the 16th decimal place (hence an error of order $10^{-16}$). This seems perfectly acceptable.\n",
    "\n",
    "As a last example, consider columns 5 and 6 on a $30^\\circ$ facet. The number of filled cells would be 3 and 4, respectively. From the analysis above, we expect a vertical erosion rate of $\\sqrt{3}/3$, which is about:"
   ]
  },
  {
   "cell_type": "code",
   "execution_count": 29,
   "metadata": {},
   "outputs": [
    {
     "data": {
      "text/plain": [
       "0.5773502691896257"
      ]
     },
     "execution_count": 29,
     "metadata": {},
     "output_type": "execute_result"
    }
   ],
   "source": [
    "np.sqrt(3.0)/3.0"
   ]
  },
  {
   "cell_type": "code",
   "execution_count": 32,
   "metadata": {},
   "outputs": [
    {
     "data": {
      "text/plain": [
       "0.5773502691896257"
      ]
     },
     "execution_count": 32,
     "metadata": {},
     "output_type": "execute_result"
    }
   ],
   "source": [
    "vert_ero_rate(5, 3)"
   ]
  },
  {
   "cell_type": "code",
   "execution_count": 33,
   "metadata": {},
   "outputs": [
    {
     "data": {
      "text/plain": [
       "0.5773502691896257"
      ]
     },
     "execution_count": 33,
     "metadata": {},
     "output_type": "execute_result"
    }
   ],
   "source": [
    "vert_ero_rate(6, 4)"
   ]
  },
  {
   "cell_type": "markdown",
   "metadata": {},
   "source": [
    "## Summary\n",
    "\n",
    "To summarize, the method for calculating average vertical erosion rate in each column (from columns 2 to the right-most inner column) of a snapshop of a GrainFacet model run consists of the following steps:\n",
    "\n",
    "(1) Calculate the position of the column: $x(c) = \\sqrt{3} c / 2$.\n",
    "\n",
    "(2) Calculate the height of the column: $H(N, c) = N - \\frac{1}{1 + (c \\mod 2)}$, if $N>1$, and $H = 0$ otherwise.\n",
    "\n",
    "(3) Calculate the column's erosion rate: $E_v = \\frac{\\sqrt{3}\\delta}{\\tau} \\left( \\frac{\\sqrt{3}}{2} - \\frac{H}{2x} \\right)$.\n",
    "\n",
    "(Note that step 3 includes that $V = \\sqrt{3}\\delta / \\tau$, where $\\delta$ is cell width, $\\tau$ is the slip interval, and $\\sqrt{3}\\delta$ is the slip distance.)\n",
    "\n",
    "Once the individual columns have been calculated, their vertical erosion rates are averaged."
   ]
  }
 ],
 "metadata": {
  "kernelspec": {
   "display_name": "Python 3",
   "language": "python",
   "name": "python3"
  },
  "language_info": {
   "codemirror_mode": {
    "name": "ipython",
    "version": 3
   },
   "file_extension": ".py",
   "mimetype": "text/x-python",
   "name": "python",
   "nbconvert_exporter": "python",
   "pygments_lexer": "ipython3",
   "version": "3.6.7"
  }
 },
 "nbformat": 4,
 "nbformat_minor": 2
}
